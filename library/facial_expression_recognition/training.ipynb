{
 "cells": [
  {
   "cell_type": "markdown",
   "id": "77bfc770",
   "metadata": {},
   "source": [
    "### Cài đặt thư viện"
   ]
  },
  {
   "cell_type": "code",
   "execution_count": 1,
   "id": "dc1e9562",
   "metadata": {},
   "outputs": [],
   "source": [
    "import os\n",
    "import cv2\n",
    "import numpy as np\n",
    "import joblib\n",
    "import json\n",
    "from sklearn.svm import SVC\n",
    "from sklearn.model_selection import train_test_split\n",
    "from sklearn.metrics import accuracy_score\n",
    "from sklearn.svm import SVC\n",
    "from sklearn.metrics import accuracy_score\n",
    "from sklearn.model_selection import train_test_split\n",
    "from sklearn.ensemble import RandomForestClassifier"
   ]
  },
  {
   "cell_type": "markdown",
   "id": "928bdec3",
   "metadata": {},
   "source": [
    "### 🧠 Bước 1: Trích xuất đặc trưng (7D vector từ model onnx)"
   ]
  },
  {
   "cell_type": "code",
   "execution_count": 2,
   "id": "8693e540",
   "metadata": {},
   "outputs": [],
   "source": [
    "def extract_softmax_feature(img_path, recognizer):\n",
    "    img = cv2.imread(img_path)\n",
    "    if img is None:\n",
    "        print(\"❌ Lỗi đọc ảnh:\", img_path)\n",
    "        return None\n",
    "\n",
    "    img = cv2.resize(img, (112, 112))\n",
    "    img = img.astype(np.float32)\n",
    "\n",
    "    result = recognizer.infer(img)\n",
    "\n",
    "    return result  # output softmax (7 lớp)"
   ]
  },
  {
   "cell_type": "markdown",
   "id": "c858946e",
   "metadata": {},
   "source": [
    "### 🗂️ Bước 2: Gộp dữ liệu các class và trích feature"
   ]
  },
  {
   "cell_type": "code",
   "execution_count": 3,
   "id": "724b788e",
   "metadata": {},
   "outputs": [],
   "source": [
    "def build_dataset(images_dir, recognizer):\n",
    "    X = []\n",
    "    y = []\n",
    "    label_names = []\n",
    "\n",
    "    class_names = sorted([\n",
    "        name for name in os.listdir(images_dir)\n",
    "        if os.path.isdir(os.path.join(images_dir, name))\n",
    "    ])\n",
    "    label_names = class_names  # Gán 1 lần duy nhất\n",
    "\n",
    "    for idx, class_name in enumerate(class_names):\n",
    "        class_dir = os.path.join(images_dir, class_name)\n",
    "\n",
    "        for fname in os.listdir(class_dir):\n",
    "            if not fname.lower().endswith(('.jpg', '.png', '.jpeg', '.bmp')):\n",
    "                continue\n",
    "            path = os.path.join(class_dir, fname)\n",
    "            feat = extract_softmax_feature(path, recognizer)\n",
    "            if feat is not None:\n",
    "                X.append(feat)\n",
    "                y.append(idx)\n",
    "\n",
    "    return np.array(X), np.array(y), label_names"
   ]
  },
  {
   "cell_type": "markdown",
   "id": "04b273b1",
   "metadata": {},
   "source": [
    "### 🎯 Bước 3: Train classifier 8 lớp"
   ]
  },
  {
   "cell_type": "code",
   "execution_count": 4,
   "id": "7cf9cdfa",
   "metadata": {},
   "outputs": [],
   "source": [
    "def train_classifier(X, y):\n",
    "    X_train, X_test, y_train, y_test = train_test_split(\n",
    "        X, y, stratify=y, test_size=0.2, random_state=42)\n",
    "\n",
    "    model = RandomForestClassifier(n_estimators=100, random_state=42, class_weight='balanced')\n",
    "    model.fit(X_train, y_train)\n",
    "\n",
    "    acc = accuracy_score(y_test, model.predict(X_test))\n",
    "    print(f\"✅ Accuracy: {acc:.4f}\")\n",
    "    return model"
   ]
  },
  {
   "cell_type": "markdown",
   "id": "60ebb3bd",
   "metadata": {},
   "source": [
    "### 💾 Bước 4: Lưu model classifier & label names\n"
   ]
  },
  {
   "cell_type": "code",
   "execution_count": 5,
   "id": "78495af5",
   "metadata": {},
   "outputs": [],
   "source": [
    "def save_model(model, label_names, out_dir='../../model/facial_expression_recognition'):\n",
    "    os.makedirs(out_dir, exist_ok=True)\n",
    "    joblib.dump(model, os.path.join(out_dir, 'svc_facial_expression_classifier.pkl'))\n",
    "    with open(os.path.join(out_dir, 'facial_expression_label_names.json'), 'w') as f:\n",
    "        json.dump(label_names, f)\n",
    "    print(\"✅ Model và nhãn đã được lưu.\")"
   ]
  },
  {
   "cell_type": "markdown",
   "id": "ae54f129",
   "metadata": {},
   "source": [
    "### 🔁 Bước 5: Inference"
   ]
  },
  {
   "cell_type": "code",
   "execution_count": 6,
   "id": "8086ac0c",
   "metadata": {},
   "outputs": [],
   "source": [
    "def predict_emotion(image_path, recognizer, classifier, label_names):\n",
    "    feat = extract_softmax_feature(image_path, recognizer)\n",
    "    if feat is None:\n",
    "        return \"Unknown\"\n",
    "    pred = classifier.predict([feat])[0]\n",
    "    return label_names[pred]"
   ]
  },
  {
   "cell_type": "code",
   "execution_count": 10,
   "id": "a8d06c19",
   "metadata": {},
   "outputs": [
    {
     "name": "stdout",
     "output_type": "stream",
     "text": [
      "📁 Loading dataset...\n",
      "🎓 Training classifier...\n",
      "✅ Accuracy: 0.9084\n",
      "💾 Saving model...\n",
      "✅ Model và nhãn đã được lưu.\n",
      "🔍 Inference...\n",
      "🧠 Dự đoán cảm xúc cho ảnh 'happy.jpg': Sleepy\n",
      "🧠 Dự đoán cảm xúc cho ảnh 'sleepy.jpg': Sleepy\n",
      "🧠 Dự đoán cảm xúc cho ảnh 'sad.jpg': Happy\n"
     ]
    }
   ],
   "source": [
    "# ==== Load ONNX model ====\n",
    "from facial_fer_model import FacialExpressionRecog  # from OpenCV Zoo\n",
    "\n",
    "onnx_path = \"../../model/facial_expression_recognition_mobilefacenet_2022july.onnx\"\n",
    "recognizer = FacialExpressionRecog(onnx_path)\n",
    "images_dir = \"../../images/facial_expression_recognition\"  # Thư mục chứa các thư mục con: Happy/, Sleepy/, ...\n",
    "list_images = [\n",
    "    \"happy.jpg\",  # Thay bằng ảnh thử của bạn\n",
    "    \"sleepy.jpg\",  # Thay bằng ảnh thử của bạn\n",
    "    # \"angry.jpg\",  # Thay bằng ảnh thử của bạn\n",
    "    \"sad.jpg\",  # Thay bằng ảnh thử của bạn\n",
    "    # \"surprise.jpg\",  # Thay bằng ảnh thử của bạn\n",
    "    # \"disgust.jpg\",  # Thay bằng ảnh thử của bạn\n",
    "    # \"fear.jpg\",  # Thay bằng ảnh thử của bạn\n",
    "]\n",
    "\n",
    "if __name__ == \"__main__\":\n",
    "    \n",
    "    print(\"📁 Loading dataset...\")\n",
    "    X, y, label_names = build_dataset(images_dir, recognizer)\n",
    "\n",
    "    print(\"🎓 Training classifier...\")\n",
    "    model = train_classifier(X, y)\n",
    "\n",
    "    print(\"💾 Saving model...\")\n",
    "    save_model(model, label_names)\n",
    "\n",
    "    # Inference\n",
    "    print(\"🔍 Inference...\")\n",
    "    for test_img in list_images:\n",
    "        if os.path.exists(test_img):\n",
    "            pred = predict_emotion(test_img, recognizer, model, label_names)\n",
    "            print(f\"🧠 Dự đoán cảm xúc cho ảnh '{test_img}': {pred}\")\n",
    "        else:\n",
    "            print(\"📸 File test không tồn tại — bỏ qua inference.\")"
   ]
  }
 ],
 "metadata": {
  "kernelspec": {
   "display_name": "venv",
   "language": "python",
   "name": "python3"
  },
  "language_info": {
   "codemirror_mode": {
    "name": "ipython",
    "version": 3
   },
   "file_extension": ".py",
   "mimetype": "text/x-python",
   "name": "python",
   "nbconvert_exporter": "python",
   "pygments_lexer": "ipython3",
   "version": "3.10.11"
  }
 },
 "nbformat": 4,
 "nbformat_minor": 5
}
